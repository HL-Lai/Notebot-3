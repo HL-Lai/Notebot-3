{
 "cells": [
  {
   "cell_type": "code",
   "execution_count": 34,
   "metadata": {},
   "outputs": [
    {
     "name": "stdout",
     "output_type": "stream",
     "text": [
      "- Formula: \\\\( A = P \\left(1 + \\frac{r}{n}\\right)^{nt} \\\\)\n",
      "<ul>\n",
      "<li>Formula: \\( A = P \\left(1 + \\frac{r}{n}\\right)^{nt} \\)</li>\n",
      "</ul>\n"
     ]
    }
   ],
   "source": [
    "import re\n",
    "import markdown\n",
    "text = '- Formula: \\\\( A = P \\\\left(1 + \\\\frac{r}{n}\\\\right)^{nt} \\\\)'\n",
    "# text.replace('<', '< ')\n",
    "# text.replace('\\\\(', '\\\\( ')\n",
    "# text.replace('\\\\)', ' \\\\) ')\n",
    "# text.replace('\\\\[', '\\\\[ ')\n",
    "# text.replace('\\\\]', ' \\\\] ')\n",
    "\n",
    "# text = re.sub(r'\\n+([ \\t]+\\$\\$|[ \\t]+\\\\\\])', r'\\n\\1', text)\n",
    "# text = re.sub(r'(\\$\\$|\\\\\\[)\\n+', r'\\1\\n', text)\n",
    "text = re.sub(r'\\\\([()\\[\\]+])', r'\\\\\\\\\\1', text)\n",
    "html_text = markdown.markdown(text, extensions=['extra', 'smarty'])\n",
    "print(text)\n",
    "print(html_text)"
   ]
  },
  {
   "cell_type": "code",
   "execution_count": 7,
   "metadata": {},
   "outputs": [
    {
     "name": "stdout",
     "output_type": "stream",
     "text": [
      "<ul>\n",
      "<li>Formula: ( A = P \\left(1 + \\frac{r}{n}\\right)^{nt} )</li>\n",
      "</ul>\n"
     ]
    }
   ],
   "source": [
    "from notebot2 import md_to_html_for_input\n",
    "\n",
    "print(md_to_html_for_input('- Formula: \\\\( A = P \\\\left(1 + \\\\frac{r}{n}\\\\right)^{nt} \\\\)'))"
   ]
  },
  {
   "cell_type": "code",
   "execution_count": 8,
   "metadata": {},
   "outputs": [
    {
     "name": "stdout",
     "output_type": "stream",
     "text": [
      "<p>( A = P \\left(1 + \\frac{r}{n}\\right)^{nt} )</p>\n"
     ]
    }
   ],
   "source": [
    "from notebot2 import md_to_html_for_input\n",
    "\n",
    "print(md_to_html_for_input('\\\\( A = P \\\\left(1 + \\\\frac{r}{n}\\\\right)^{nt} \\\\)'))"
   ]
  },
  {
   "cell_type": "code",
   "execution_count": 9,
   "metadata": {},
   "outputs": [
    {
     "name": "stderr",
     "output_type": "stream",
     "text": [
      "<>:1: SyntaxWarning: invalid escape sequence '\\('\n",
      "<>:1: SyntaxWarning: invalid escape sequence '\\('\n",
      "C:\\Users\\harold\\AppData\\Local\\Temp\\ipykernel_20256\\922698136.py:1: SyntaxWarning: invalid escape sequence '\\('\n",
      "  md_to_html_for_input('<li>Ideal Gas Law: \\( PV = nRT \\)</li>')\n"
     ]
    },
    {
     "data": {
      "text/plain": [
       "'<li>Ideal Gas Law: \\\\( PV = nRT \\\\)</li>'"
      ]
     },
     "execution_count": 9,
     "metadata": {},
     "output_type": "execute_result"
    }
   ],
   "source": [
    "md_to_html_for_input('<li>Ideal Gas Law: \\( PV = nRT \\)</li>')"
   ]
  },
  {
   "cell_type": "code",
   "execution_count": 20,
   "metadata": {},
   "outputs": [
    {
     "name": "stderr",
     "output_type": "stream",
     "text": [
      "<>:1: SyntaxWarning: invalid escape sequence '\\('\n",
      "<>:1: SyntaxWarning: invalid escape sequence '\\('\n",
      "C:\\Users\\harold\\AppData\\Local\\Temp\\ipykernel_20256\\332597510.py:1: SyntaxWarning: invalid escape sequence '\\('\n",
      "  md_to_html_for_input('\\(e^{i}\\)')\n"
     ]
    },
    {
     "data": {
      "text/plain": [
       "'<p>(e^{i})</p>'"
      ]
     },
     "execution_count": 20,
     "metadata": {},
     "output_type": "execute_result"
    }
   ],
   "source": [
    "md_to_html_for_input('\\(e^{i}\\)')"
   ]
  },
  {
   "cell_type": "code",
   "execution_count": 23,
   "metadata": {},
   "outputs": [
    {
     "name": "stdout",
     "output_type": "stream",
     "text": [
      "\\(e^{i\\pi} + 1 = 0\\)\n"
     ]
    }
   ],
   "source": [
    "print('\\\\(e^{i\\\\pi} + 1 = 0\\\\)')"
   ]
  },
  {
   "cell_type": "code",
   "execution_count": null,
   "metadata": {},
   "outputs": [],
   "source": [
    "import os\n",
    "import re\n",
    "import base64\n",
    "import openai\n",
    "import mimetypes\n",
    "from dotenv import load_dotenv\n",
    "\n",
    "load_dotenv()\n",
    "\n",
    "api_key = os.getenv('OPENAI_API_KEY')\n",
    "if api_key is None:\n",
    "    key = input(\"Please input your api key: \").strip()\n",
    "    api_key = clean_string(key)\n",
    "\n",
    "client = openai.AzureOpenAI(\n",
    "    azure_endpoint=os.getenv('OPENAI_API_ENDPOINT', \"https://api.hku.hk\"),\n",
    "    api_key=api_key,\n",
    "    api_version=\"2025-01-01-preview\"\n",
    ")\n",
    "\n",
    "def history_default():\n",
    "    return [{\"role\": \"system\", \"content\": \"You are a helpful assistant who helps to write notes. You may also answer user's questions if they have query. You write or correct notes according to the user's input. Keep your response concise. Answer directly without any polite phrases or conclusions. You may have a title, but don't write any openings before the title, but after the title. If there is title, use <h1> (the largest heading) for the title. Use latex for any math symbols. Use 4 spaces for any indentations. Better use <ol> and <ul> tags for lists. Use HTML tags for tables.\"}]\n",
    "\n",
    "def select_model(model_input):\n",
    "    match model_input:\n",
    "        case 'GPT-4.1-nano': return 'gpt-4.1-nano'\n",
    "        case 'GPT-4.1-mini': return 'gpt-4.1-mini'\n",
    "        case 'GPT-4.1': return 'gpt-4.1'\n",
    "        case 'o4-mini': return 'o4-mini'\n",
    "        case 'GPT-4o': return 'gpt-4o'\n",
    "        case 'GPT-4': return 'gpt-4'\n",
    "        case 'GPT-3.5': return 'gpt-35-turbo'\n",
    "        case _: return model_input\n",
    "\n",
    "def is_image_file(filepath):\n",
    "    if not os.path.isfile(filepath):\n",
    "        return False\n",
    "    mime, _ = mimetypes.guess_type(filepath)\n",
    "    if mime and mime.startswith('image/'):\n",
    "        return True\n",
    "    return False\n",
    "\n",
    "def process_image(image_path):\n",
    "    if image_path and is_image_file(image_path):\n",
    "        with open(image_path, \"rb\") as image_file:\n",
    "            mime, _ = mimetypes.guess_type(image_path)\n",
    "            base64_str = base64.b64encode(image_file.read()).decode()\n",
    "            image_data = f\"data:{mime};base64,{base64_str}\"\n",
    "        return image_data\n",
    "    else:\n",
    "        raise ValueError(\"The provided file is not a valid image.\")\n",
    "\n",
    "def chatbot(message=False, image=False, model=\"gpt-4.1\", prompt=\"You are a helpful assistant who helps to write notes.\", temperature=0.7, history=history_default(), defining=False):\n",
    "    model=select_model(model)\n",
    "    temperature = 1 if model == 'o4-mini' else temperature\n",
    "    \n",
    "    history[0]['content'] = prompt\n",
    "    if (model.startswith('gpt') or model == 'o4-mini') and image:\n",
    "        # with open(image, \"rb\") as image_file:\n",
    "        #     image = \"data:image/jpeg;base64,\" + base64.b64encode(image_file.read()).decode()\n",
    "        image = process_image(image)\n",
    "        content = []\n",
    "        if message:\n",
    "            content.append({\"type\": \"text\", \"text\": message})\n",
    "        content.append({\"type\": \"image_url\", \"image_url\": {\"url\": image}})\n",
    "        new_prompt = {\"role\": \"user\", \"content\": content}\n",
    "    else:\n",
    "        new_prompt = {\"role\": \"user\", \"content\": message}\n",
    "    history.append(new_prompt)\n",
    "    # completion = openai.ChatCompletion.create(engine=\"chatgpt\", messages=history)\n",
    "    response = client.chat.completions.create(model=model, messages=history, temperature=temperature)\n",
    "    answer = response.choices[0].message.content\n",
    "    if defining: history.pop()\n",
    "    elif not defining:\n",
    "        history.append({\"role\": \"assistant\", \"content\": answer})\n",
    "    return history, answer"
   ]
  },
  {
   "cell_type": "code",
   "execution_count": 6,
   "metadata": {},
   "outputs": [
    {
     "data": {
      "text/plain": [
       "[{'role': 'system',\n",
       "  'content': 'You are a helpful assistant who helps to write notes.'},\n",
       " {'role': 'user', 'content': 'Who are you?'},\n",
       " {'role': 'assistant',\n",
       "  'content': 'I’m ChatGPT, an AI assistant created by OpenAI. I’m here to help you draft and organize notes—or assist with any other writing tasks you have.'}]"
      ]
     },
     "execution_count": 6,
     "metadata": {},
     "output_type": "execute_result"
    }
   ],
   "source": [
    "history"
   ]
  },
  {
   "cell_type": "code",
   "execution_count": 2,
   "metadata": {},
   "outputs": [
    {
     "data": {
      "text/plain": [
       "'This photo shows a single vicuña, and no other animals are visible, so it looks like he does not have a friend with him in this picture.'"
      ]
     },
     "execution_count": 2,
     "metadata": {},
     "output_type": "execute_result"
    }
   ],
   "source": [
    "history, answer = chatbot(message=\"Does he have any friend?\", image = \"C:/Users/harold/Pictures/llama.png\")\n",
    "answer"
   ]
  }
 ],
 "metadata": {
  "kernelspec": {
   "display_name": "Python 3",
   "language": "python",
   "name": "python3"
  },
  "language_info": {
   "codemirror_mode": {
    "name": "ipython",
    "version": 3
   },
   "file_extension": ".py",
   "mimetype": "text/x-python",
   "name": "python",
   "nbconvert_exporter": "python",
   "pygments_lexer": "ipython3",
   "version": "3.13.2"
  }
 },
 "nbformat": 4,
 "nbformat_minor": 2
}
